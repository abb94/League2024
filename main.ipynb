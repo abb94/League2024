{
 "cells": [
  {
   "cell_type": "code",
   "execution_count": 3,
   "metadata": {},
   "outputs": [],
   "source": [
    "import pandas as pd\n",
    "import os"
   ]
  },
  {
   "cell_type": "code",
   "execution_count": 5,
   "metadata": {},
   "outputs": [
    {
     "name": "stderr",
     "output_type": "stream",
     "text": [
      "C:\\Users\\Bruss\\AppData\\Local\\Temp\\ipykernel_22784\\3168976026.py:2: DtypeWarning: Columns (15) have mixed types. Specify dtype option on import or set low_memory=False.\n",
      "  df_games = pd.read_csv('scoreboardGames.csv')\n",
      "C:\\Users\\Bruss\\AppData\\Local\\Temp\\ipykernel_22784\\3168976026.py:3: DtypeWarning: Columns (16,24,27) have mixed types. Specify dtype option on import or set low_memory=False.\n",
      "  df_players = pd.read_csv('allPlayerInfo.csv')\n"
     ]
    }
   ],
   "source": [
    "os.chdir(\"c:/users/Bruss/bigfiles\")\n",
    "df_games = pd.read_csv('scoreboardGames.csv')\n",
    "df_players = pd.read_csv('allPlayerInfo.csv')\n",
    "os.chdir(\"c:/Users/Bruss/GitHub/League2024\")"
   ]
  },
  {
   "cell_type": "code",
   "execution_count": 21,
   "metadata": {},
   "outputs": [
    {
     "data": {
      "text/plain": [
       "np.int64(99068)"
      ]
     },
     "execution_count": 21,
     "metadata": {},
     "output_type": "execute_result"
    }
   ],
   "source": [
    "df_games['Team2VoidGrubs'].isna().sum()"
   ]
  },
  {
   "cell_type": "code",
   "execution_count": 10,
   "metadata": {},
   "outputs": [
    {
     "data": {
      "text/plain": [
       "Unnamed: 0                   int64\n",
       "Assists                      int64\n",
       "CS                         float64\n",
       "Champion                    object\n",
       "DST                        float64\n",
       "DamageToChampions          float64\n",
       "DateTime UTC                object\n",
       "DateTime UTC__precision      int64\n",
       "Deaths                       int64\n",
       "GameId                      object\n",
       "GameRoleId                  object\n",
       "GameRoleIdVs                object\n",
       "GameTeamId                  object\n",
       "Gold                       float64\n",
       "IngameRole                  object\n",
       "Items                       object\n",
       "KeystoneMastery             object\n",
       "KeystoneRune                object\n",
       "Kills                        int64\n",
       "Link                        object\n",
       "MatchId                     object\n",
       "Name                        object\n",
       "OverviewPage                object\n",
       "PlayerWin                   object\n",
       "PrimaryTree                 object\n",
       "Role                        object\n",
       "Role Number                  int64\n",
       "Runes                       object\n",
       "SecondaryTree               object\n",
       "Side                         int64\n",
       "StatsPage                   object\n",
       "SummonerSpells              object\n",
       "Team                        object\n",
       "TeamGold                   float64\n",
       "TeamKills                  float64\n",
       "TeamVs                      object\n",
       "Time                       float64\n",
       "Time__precision            float64\n",
       "Tournament                 float64\n",
       "Trinket                     object\n",
       "UniqueLine                  object\n",
       "UniqueLineVs                object\n",
       "UniqueRole                  object\n",
       "UniqueRoleVs                object\n",
       "VisionScore                float64\n",
       "dtype: object"
      ]
     },
     "execution_count": 10,
     "metadata": {},
     "output_type": "execute_result"
    }
   ],
   "source": [
    "df_players.dtypes"
   ]
  }
 ],
 "metadata": {
  "kernelspec": {
   "display_name": "League2024",
   "language": "python",
   "name": "python3"
  },
  "language_info": {
   "codemirror_mode": {
    "name": "ipython",
    "version": 3
   },
   "file_extension": ".py",
   "mimetype": "text/x-python",
   "name": "python",
   "nbconvert_exporter": "python",
   "pygments_lexer": "ipython3",
   "version": "3.12.3"
  }
 },
 "nbformat": 4,
 "nbformat_minor": 2
}
